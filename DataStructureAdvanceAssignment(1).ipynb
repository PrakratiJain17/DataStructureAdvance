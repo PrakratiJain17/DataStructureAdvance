{
  "cells": [
    {
      "cell_type": "code",
      "execution_count": null,
      "metadata": {
        "colab": {
          "base_uri": "https://localhost:8080/"
        },
        "id": "0r2TyBHN3FUE",
        "outputId": "c424419e-78bc-43e6-c0ee-cb0a4c280cde"
      },
      "outputs": [
        {
          "name": "stdout",
          "output_type": "stream",
          "text": [
            "Enter a string : HELLO WORLD\n",
            "DLROW OLLEH\n"
          ]
        }
      ],
      "source": [
        "#Q.1 Write a code to reverse a string\n",
        "string1=input(\"Enter a string : \")\n",
        "string1=string1[::-1]\n",
        "print(string1)"
      ]
    },
    {
      "cell_type": "code",
      "execution_count": null,
      "metadata": {
        "colab": {
          "base_uri": "https://localhost:8080/"
        },
        "id": "xnE7kdcI5Ba4",
        "outputId": "45f7abb1-56d4-41ea-9ede-598e8571aa1d"
      },
      "outputs": [
        {
          "data": {
            "text/plain": [
              "3"
            ]
          },
          "execution_count": 6,
          "metadata": {},
          "output_type": "execute_result"
        }
      ],
      "source": [
        "#Q.2 Write a code to count number of vowles in a string\n",
        "def vowel_count(n):\n",
        "    count = 0\n",
        "    vowels = 'aeiouAEIOU'\n",
        "    for char in n:\n",
        "        if char in vowels:\n",
        "            count += 1\n",
        "    return count\n",
        "vowel_count(\"Hello World\")\n"
      ]
    },
    {
      "cell_type": "code",
      "execution_count": null,
      "metadata": {
        "colab": {
          "base_uri": "https://localhost:8080/",
          "height": 36
        },
        "id": "vUy3EuPn6ER0",
        "outputId": "7a223e9b-008f-4ba7-b35a-a3aef4d9fc2f"
      },
      "outputs": [
        {
          "data": {
            "application/vnd.google.colaboratory.intrinsic+json": {
              "type": "string"
            },
            "text/plain": [
              "'Palindrome'"
            ]
          },
          "execution_count": 11,
          "metadata": {},
          "output_type": "execute_result"
        }
      ],
      "source": [
        "#Q.3 Write a code to check if a given string is palindrome or not\n",
        "def check_palindrome(n):\n",
        "    n=n.lower()\n",
        "    if n == n[::-1]:\n",
        "      return \"Palindrome\"\n",
        "    else:\n",
        "      return \"Not a palindrome\"\n",
        "check_palindrome(\"Racecar\")"
      ]
    },
    {
      "cell_type": "code",
      "execution_count": null,
      "metadata": {
        "colab": {
          "base_uri": "https://localhost:8080/",
          "height": 36
        },
        "id": "r9Bn9x9F7aQx",
        "outputId": "b7b3f293-21e4-49ee-a2db-7c0a5c2a6694"
      },
      "outputs": [
        {
          "data": {
            "application/vnd.google.colaboratory.intrinsic+json": {
              "type": "string"
            },
            "text/plain": [
              "'Anagrams'"
            ]
          },
          "execution_count": 13,
          "metadata": {},
          "output_type": "execute_result"
        }
      ],
      "source": [
        "#Q.4 Write code to check if strings are anagrams of each other\n",
        "#Angrams string contain same characters in same frequencies\n",
        "def check_anagrams(str1,str2):\n",
        "  str1=str1.lower()\n",
        "  str2=str2.lower()\n",
        "  str1=str1.replace(\" \",\"\")\n",
        "  str2=str2.replace(\" \",\"\")\n",
        "  if sorted(str1)== sorted(str2):\n",
        "    return \"Anagrams\"\n",
        "  else:\n",
        "    return \"Not Anagrams\"\n",
        "check_anagrams(\"Listen\",\"Silent\")\n"
      ]
    },
    {
      "cell_type": "code",
      "execution_count": null,
      "metadata": {
        "colab": {
          "base_uri": "https://localhost:8080/"
        },
        "id": "AMyEuKWR82af",
        "outputId": "3c932f2d-e675-4587-be59-f3171ebc72a4"
      },
      "outputs": [
        {
          "data": {
            "text/plain": [
              "[2, 4, 6, 12]"
            ]
          },
          "execution_count": 3,
          "metadata": {},
          "output_type": "execute_result"
        }
      ],
      "source": [
        "#Q.5  Write a code to find all occurrences of given substring within another string\n",
        "def find_all_occurences(string,substring):\n",
        "  result=[]\n",
        "  for i in range(len(string)-len(substring)):\n",
        "    if string[i:i+len(substring)]==substring:\n",
        "      result.append(i)\n",
        "  return result\n",
        "find_all_occurences(\"HELOLOLO HELLOO\",\"LO\")\n",
        "\n",
        "\n"
      ]
    },
    {
      "cell_type": "code",
      "execution_count": null,
      "metadata": {
        "colab": {
          "base_uri": "https://localhost:8080/",
          "height": 36
        },
        "id": "OaeZE_RqlUGx",
        "outputId": "add91586-f6a7-40d6-8a23-9342e687ff02"
      },
      "outputs": [
        {
          "data": {
            "application/vnd.google.colaboratory.intrinsic+json": {
              "type": "string"
            },
            "text/plain": [
              "'H1e1l2o5'"
            ]
          },
          "execution_count": 91,
          "metadata": {},
          "output_type": "execute_result"
        }
      ],
      "source": [
        "#Q.6 Write a code to perform basic string compression using the count of repeated characters\n",
        "def string_compression (string):\n",
        "  if not string:\n",
        "    return \"\"\n",
        "  result=[]\n",
        "  count=1\n",
        "  for i in range(len(string)-1):\n",
        "    if string[i]==string[i+1]:\n",
        "        count += 1\n",
        "\n",
        "    else:\n",
        "      result.append(f\"{string[i]}{count}\")\n",
        "      count=1\n",
        "  result.append(f\"{string[-1]}{count}\")\n",
        "  return ''.join(result)\n",
        "string_compression(\"Hellooooo\")\n"
      ]
    },
    {
      "cell_type": "code",
      "execution_count": null,
      "metadata": {
        "colab": {
          "base_uri": "https://localhost:8080/",
          "height": 36
        },
        "id": "8as8C-0pnBI5",
        "outputId": "7344a6b5-04a7-42dc-9a45-30c079e8a1c1"
      },
      "outputs": [
        {
          "data": {
            "application/vnd.google.colaboratory.intrinsic+json": {
              "type": "string"
            },
            "text/plain": [
              "'String does not contain all unique characters'"
            ]
          },
          "execution_count": 18,
          "metadata": {},
          "output_type": "execute_result"
        }
      ],
      "source": [
        "#Q.7  Write a code to determine if a string has all unique character\n",
        "def check_unique(string):\n",
        "   string = string.lower().replace(\" \", \"\")\n",
        "   check=set()\n",
        "   for char in string:\n",
        "      if char in check:\n",
        "          return \"String does not contain all unique characters\"\n",
        "      check.add(char)\n",
        "   return \"String has all unique characters\"\n",
        "check_unique(\"Hey Champ\")"
      ]
    },
    {
      "cell_type": "code",
      "execution_count": null,
      "metadata": {
        "colab": {
          "base_uri": "https://localhost:8080/"
        },
        "id": "TxXmS6NRr8Jo",
        "outputId": "677ee85c-27a6-4cf9-abc1-a9928ce7b9da"
      },
      "outputs": [
        {
          "name": "stdout",
          "output_type": "stream",
          "text": [
            "HELLO WORLD\n",
            "hello world\n"
          ]
        }
      ],
      "source": [
        "# Q.8 Write code to convert a given string to uppercase or lowercase\n",
        "def convert_upper_lower(string,to_upper=True):\n",
        "  if to_upper==True:\n",
        "    return string.upper()\n",
        "  else:\n",
        "    return string.lower()\n",
        "\n",
        "print(convert_upper_lower(\"HEllO World\"))\n",
        "print(convert_upper_lower(\"HELLO WORld\",False))"
      ]
    },
    {
      "cell_type": "code",
      "execution_count": null,
      "metadata": {
        "colab": {
          "base_uri": "https://localhost:8080/"
        },
        "id": "_EGnq-4zunJg",
        "outputId": "9aab7d0f-e54d-41ee-86ed-77f0b1cf3cb5"
      },
      "outputs": [
        {
          "data": {
            "text/plain": [
              "2"
            ]
          },
          "execution_count": 43,
          "metadata": {},
          "output_type": "execute_result"
        }
      ],
      "source": [
        "#Q.9 Write a code to count the number of words in a string\n",
        "def count_words(string):\n",
        "  count=0\n",
        "  words=string.split(\" \")\n",
        "  for i in words:\n",
        "    count+=1\n",
        "  return count\n",
        "count_words(\"hello world\")"
      ]
    },
    {
      "cell_type": "code",
      "execution_count": null,
      "metadata": {
        "colab": {
          "base_uri": "https://localhost:8080/",
          "height": 36
        },
        "id": "vsWrHSHqxlLi",
        "outputId": "e5c7ad64-a7f8-46e2-d744-4e1fed0ca798"
      },
      "outputs": [
        {
          "data": {
            "application/vnd.google.colaboratory.intrinsic+json": {
              "type": "string"
            },
            "text/plain": [
              "'Hello World'"
            ]
          },
          "execution_count": 15,
          "metadata": {},
          "output_type": "execute_result"
        }
      ],
      "source": [
        "#Q.10 Write a code to concatenate without using the + operator\n",
        "def concatenate_string(str1,str2):\n",
        "    return (f\"{str1} {str2}\")\n",
        "concatenate_string(\"Hello\",\"World\")"
      ]
    },
    {
      "cell_type": "code",
      "execution_count": null,
      "metadata": {
        "colab": {
          "base_uri": "https://localhost:8080/"
        },
        "id": "7hkmoMGg0h1b",
        "outputId": "927e7f45-b2ed-482b-e70b-9c2f30c943fb"
      },
      "outputs": [
        {
          "data": {
            "text/plain": [
              "[1, 2, 3, 5]"
            ]
          },
          "execution_count": 48,
          "metadata": {},
          "output_type": "execute_result"
        }
      ],
      "source": [
        "#Q.11  Write a code to remove all occurrences of specific element from a list\n",
        "def remove_element(list1,element):\n",
        "  result=[i for i in list1 if i!=element]\n",
        "  return result\n",
        "remove_element([1,2,3,5,6],6)\n"
      ]
    },
    {
      "cell_type": "code",
      "execution_count": null,
      "metadata": {
        "colab": {
          "base_uri": "https://localhost:8080/"
        },
        "id": "TYR-9ruz_vwj",
        "outputId": "591e3172-86a8-430e-a245-d20c6f441239"
      },
      "outputs": [
        {
          "data": {
            "text/plain": [
              "3"
            ]
          },
          "execution_count": 57,
          "metadata": {},
          "output_type": "execute_result"
        }
      ],
      "source": [
        "#Q.12  Implement a code to find the second largest number in a given list of integers.\n",
        "def second_largest_integer(list1):\n",
        "\n",
        "   list1=list(set(list1))\n",
        "   list1.remove(max(list1))\n",
        "   return max(list1)\n",
        "second_largest_integer([1,2,3,46,46])"
      ]
    },
    {
      "cell_type": "code",
      "execution_count": null,
      "metadata": {
        "colab": {
          "base_uri": "https://localhost:8080/"
        },
        "id": "LP5qQ8mtDGOV",
        "outputId": "7f8d2dd0-513a-4680-9c05-9d2df29e2945"
      },
      "outputs": [
        {
          "data": {
            "text/plain": [
              "{1: 2, 2: 2, 'HI': 1}"
            ]
          },
          "execution_count": 5,
          "metadata": {},
          "output_type": "execute_result"
        }
      ],
      "source": [
        "#Q.13 Create a code to count the occurence of each element in a list and return a dictionary with elements as keys and their count as values\n",
        "def count_occurence(list1):\n",
        "  dict={}\n",
        "  for i in list1:\n",
        "    if i in dict:\n",
        "      dict[i]+=1\n",
        "    else:\n",
        "      dict[i]=1\n",
        "  return dict\n",
        "count_occurence([1,2,\"HI\",2,1])\n"
      ]
    },
    {
      "cell_type": "code",
      "execution_count": 2,
      "metadata": {
        "colab": {
          "base_uri": "https://localhost:8080/"
        },
        "id": "dreSnHsz4QuQ",
        "outputId": "2b0ea24f-4960-4a75-f0f1-a10c03f87770"
      },
      "outputs": [
        {
          "data": {
            "text/plain": [
              "[0, 10, 6, 4, 2, 1]"
            ]
          },
          "execution_count": 2,
          "metadata": {},
          "output_type": "execute_result"
        }
      ],
      "source": [
        "#Q.14 Write a code to reverse a list in-place without using any built-in reverse function\n",
        "def reverse_list(list1):\n",
        "  start=0\n",
        "  end=len(list1)-1\n",
        "  while start<end:\n",
        "    list1[start],list1[end] =list1[end],list1[start]\n",
        "    start+=1\n",
        "    end-=1\n",
        "  return list1\n",
        "reverse_list([1,2,4,6,10,0])\n"
      ]
    },
    {
      "cell_type": "code",
      "execution_count": null,
      "metadata": {
        "colab": {
          "base_uri": "https://localhost:8080/"
        },
        "id": "52VLUb3CCmr4",
        "outputId": "a32575a1-226a-4acc-bc8a-b42b63f538ca"
      },
      "outputs": [
        {
          "data": {
            "text/plain": [
              "[1, 2, 4, 5]"
            ]
          },
          "execution_count": 17,
          "metadata": {},
          "output_type": "execute_result"
        }
      ],
      "source": [
        "#Q.15 Implement a code to find and remove duplicate element from a list while preserving the original order of a element\n",
        "def find_remove_duplicate(list1):\n",
        "    check = set()\n",
        "    result = []\n",
        "    for i in list1:\n",
        "        if i not in check:\n",
        "            result.append(i)\n",
        "            check.add(i)\n",
        "    return result\n",
        "\n",
        "find_remove_duplicate([1, 2, 4, 5, 2, 1, 1])\n"
      ]
    },
    {
      "cell_type": "code",
      "execution_count": null,
      "metadata": {
        "colab": {
          "base_uri": "https://localhost:8080/",
          "height": 36
        },
        "id": "LcXlRGcZ7yrv",
        "outputId": "ef2560e3-d445-477c-f958-2c73016f3c23"
      },
      "outputs": [
        {
          "data": {
            "application/vnd.google.colaboratory.intrinsic+json": {
              "type": "string"
            },
            "text/plain": [
              "'List is sorted(descending order)'"
            ]
          },
          "execution_count": 3,
          "metadata": {},
          "output_type": "execute_result"
        }
      ],
      "source": [
        "#Q.16  Create a code to check if a given list is sorted (either in ascending or descending order) or not\n",
        "def check_sorted(list1):\n",
        "  for i in range(len(list1)-1):\n",
        "    if list1[i]>=list1[i+1]:\n",
        "      return \"List is sorted(descending order)\"\n",
        "    elif list1[i]<=list1[i+1]:\n",
        "      return \"List is sorted(Ascending order)\"\n",
        "    else:\n",
        "      return\" List is not sorted\"\n",
        "check_sorted([9,6,5,3,1])"
      ]
    },
    {
      "cell_type": "code",
      "execution_count": 3,
      "metadata": {
        "colab": {
          "base_uri": "https://localhost:8080/"
        },
        "id": "ZHAGYk9U9f_x",
        "outputId": "7a4803e0-3f00-4c03-8363-e37d76d81c11"
      },
      "outputs": [
        {
          "data": {
            "text/plain": [
              "[1, 2, 3, 9, 56, 78, 16]"
            ]
          },
          "execution_count": 3,
          "metadata": {},
          "output_type": "execute_result"
        }
      ],
      "source": [
        "#Q17. Write a code to merge two sorted lists into a single sorted list\n",
        "def merge_list(list1,list2):\n",
        "  merged_list=[]\n",
        "  i=j=0\n",
        "  while i<len(list1) and j<len(list2):\n",
        "    if list1[i]<list2[j]:\n",
        "      merged_list.append(list1[i])\n",
        "      i+=1\n",
        "    else:\n",
        "      merged_list.append(list2[j])\n",
        "      j+=1\n",
        "  while i<len(list1):\n",
        "    merged_list.append(list1[i])\n",
        "    i+=1\n",
        "  while j<len(list2):\n",
        "    merged_list.append(list2[j])\n",
        "    j+=1\n",
        "  return merged_list\n",
        "merge_list([1,2,3,56],[9,78,16])"
      ]
    },
    {
      "cell_type": "code",
      "execution_count": null,
      "metadata": {
        "colab": {
          "base_uri": "https://localhost:8080/"
        },
        "id": "8MbJ-ineBIai",
        "outputId": "7a6c0351-97d6-47fc-f8b9-b54da6cfa44d"
      },
      "outputs": [
        {
          "data": {
            "text/plain": [
              "[2, 4]"
            ]
          },
          "execution_count": 17,
          "metadata": {},
          "output_type": "execute_result"
        }
      ],
      "source": [
        "#Q18. Implement a code to find the intersection of two given lists\n",
        "def find_intersection(list1,list2):\n",
        "  list1=set(list1)\n",
        "  list2=set(list2)\n",
        "  return list(list1&list2)\n",
        "find_intersection([1,2,34,5,5,4],[2,3,4,4])"
      ]
    },
    {
      "cell_type": "code",
      "execution_count": null,
      "metadata": {
        "colab": {
          "base_uri": "https://localhost:8080/"
        },
        "id": "RqcGC5wNCHk7",
        "outputId": "14950437-7e90-4976-f809-40023c321e12"
      },
      "outputs": [
        {
          "data": {
            "text/plain": [
              "[1, 2, 4, 7, 9]"
            ]
          },
          "execution_count": 16,
          "metadata": {},
          "output_type": "execute_result"
        }
      ],
      "source": [
        "#Q19.Create a code to find the union of two lists without duplicates:\n",
        "def find_union(list1,list2):\n",
        "  list1=set(list1)\n",
        "  list2=set(list2)\n",
        "  return list(list1|list2)\n",
        "find_union([1,4,7,9,2,1],[1,2,4,7,9])"
      ]
    },
    {
      "cell_type": "code",
      "execution_count": null,
      "metadata": {
        "colab": {
          "base_uri": "https://localhost:8080/"
        },
        "id": "H1RlviN_DgQr",
        "outputId": "96785829-7105-4e80-fb4d-de3f32fc1836"
      },
      "outputs": [
        {
          "data": {
            "text/plain": [
              "[2, 9, 4, 5, 1, 7, 6, 2, 5]"
            ]
          },
          "execution_count": 15,
          "metadata": {},
          "output_type": "execute_result"
        }
      ],
      "source": [
        "#Q20. Write a code to shuffle a given list randomly without using anybuilt-in shuffle function\n",
        "#To shuffle a list randomly without using any built-in shuffle functions, we can implement the Fisher-Yates (or Knuth) shuffle algorithm\n",
        "import random\n",
        "def random_shuffle(list1):\n",
        "   for i in range(len(list1)-1,0,-1):\n",
        "    j=random.randint(0,i)\n",
        "    list1[i],list1[j]=list1[j],list1[i]\n",
        "   return list1\n",
        "random_shuffle([1,2,4,5,6,7,9,5,2 ])\n",
        "\n"
      ]
    },
    {
      "cell_type": "code",
      "execution_count": null,
      "metadata": {
        "colab": {
          "base_uri": "https://localhost:8080/"
        },
        "id": "rKIX_n-tHp4n",
        "outputId": "df44577d-b1fb-4c0f-b8df-b574acc9ad9b"
      },
      "outputs": [
        {
          "data": {
            "text/plain": [
              "(1, 4, 9)"
            ]
          },
          "execution_count": 27,
          "metadata": {},
          "output_type": "execute_result"
        }
      ],
      "source": [
        "#Q.21 Write a code that takes two tuples as input and returns a new tuple containing elementa that are common to both input tuple\n",
        "def tuple_intersection(tup1,tup2):\n",
        "  set1=set(tup1)\n",
        "  set2=set(tup2)\n",
        "  common=set1 &set2\n",
        "   # Create a tuple with common elements, preserving order of the first tuple\n",
        "  return tuple(i for i in tup1 if i in common)\n",
        "\n",
        "tuple_intersection((1,2,4,5,2,9),(1,3,4,6,4,9))"
      ]
    },
    {
      "cell_type": "code",
      "execution_count": null,
      "metadata": {
        "colab": {
          "base_uri": "https://localhost:8080/"
        },
        "id": "24mLS5FJMQNN",
        "outputId": "05bd4a40-9811-4948-8cac-d4ee1d83b7cb"
      },
      "outputs": [
        {
          "name": "stdout",
          "output_type": "stream",
          "text": [
            " Enter first string 1,4,2,6,7,8\n",
            " Enter second string2,7,6\n"
          ]
        },
        {
          "data": {
            "text/plain": [
              "{2, 6, 7}"
            ]
          },
          "execution_count": 1,
          "metadata": {},
          "output_type": "execute_result"
        }
      ],
      "source": [
        "#Q22.Create a code that prompts the user to enter two sets of integers separated by commas.Then print intersection of these two sets\n",
        "def intersection_sets():\n",
        "  input1=(input(\" Enter first string \"))\n",
        "  input2=(input(\" Enter second string\"))\n",
        "  set1=set(map(int,input1.split(\",\")))\n",
        "  set2=set(map(int,input2.split(\",\")))\n",
        "  return set1 & set2\n",
        "intersection_sets()"
      ]
    },
    {
      "cell_type": "code",
      "execution_count": null,
      "metadata": {
        "colab": {
          "base_uri": "https://localhost:8080/"
        },
        "id": "wUCRZCtzOdFG",
        "outputId": "70e0f784-ded8-4c94-cb40-9804eefe72a1"
      },
      "outputs": [
        {
          "name": "stdout",
          "output_type": "stream",
          "text": [
            "(1, 2, 3, 4, 5, 6)\n"
          ]
        }
      ],
      "source": [
        "#Q23. Write a code to concatenate two tuples. The function should take two tuples as input and return a new tuple containing elements from both input tuples.\n",
        "def concat_tuple(tup1,tup2):\n",
        "    return tup1 + tup2\n",
        "result = concat_tuple((1, 2, 3), (4, 5, 6))\n",
        "print(result)"
      ]
    },
    {
      "cell_type": "code",
      "execution_count": null,
      "metadata": {
        "colab": {
          "base_uri": "https://localhost:8080/"
        },
        "id": "4OqD6GQDRyll",
        "outputId": "4b10da1a-9f0f-47e3-83eb-425d8d218341"
      },
      "outputs": [
        {
          "name": "stdout",
          "output_type": "stream",
          "text": [
            "Enter string1 APPLE,MANGO,BANANA\n",
            "Enter string2 LITCHI,MANGO,GUAVA\n",
            "{'BANANA', 'APPLE'}\n"
          ]
        }
      ],
      "source": [
        "#Q24. Develop a code that prompts user to take two sets of strings.Then print the element that are present in the first set but not in the second\n",
        "def difference_set():\n",
        "  str1=input(\"Enter string1 \")\n",
        "  str2=input(\"Enter string2 \")\n",
        "  set1=set(str1.split(\",\"))\n",
        "  set2=set(str2.split(\",\"))\n",
        "  difference=set1-set2\n",
        "  print(difference)\n",
        "\n",
        "difference_set()\n"
      ]
    },
    {
      "cell_type": "code",
      "execution_count": null,
      "metadata": {
        "colab": {
          "base_uri": "https://localhost:8080/"
        },
        "id": "3ArqQxvGTtNX",
        "outputId": "95b3e7f9-dd83-4bfc-8b60-c6b79b866796"
      },
      "outputs": [
        {
          "name": "stdout",
          "output_type": "stream",
          "text": [
            "(3, 5, 8, 10, 14)\n"
          ]
        }
      ],
      "source": [
        "#Q25.Create a code that take tuple and two integers as input.The function should return a new tuple containing elements from the original tuple within the specified range of indices\n",
        "def slice_tuple(tup,start,end):\n",
        "  return tup[start:end]\n",
        "result=slice_tuple((2,3,5,8,10,14,12),1,6)\n",
        "print(result)"
      ]
    },
    {
      "cell_type": "code",
      "execution_count": null,
      "metadata": {
        "colab": {
          "base_uri": "https://localhost:8080/"
        },
        "id": "WcP7fvRkSKh-",
        "outputId": "60c8befe-bca3-4b78-f5e2-a9116cbfb246"
      },
      "outputs": [
        {
          "name": "stdout",
          "output_type": "stream",
          "text": [
            "Enter first string of characters:a,b,d,f\n",
            "Enter second string of characters:b,c,g,h\n",
            "{'f', 'h', 'g', 'c', 'b', 'd', 'a'}\n"
          ]
        }
      ],
      "source": [
        "#Q26.Write a code that prompts the user to input two sets of characters. Then print the union of the two sets.\n",
        "def union_characters():\n",
        "  str1=input(\"Enter first string of characters:\")\n",
        "  str2=input(\"Enter second string of characters:\")\n",
        "  set1=set(str1.split(\",\"))\n",
        "  set2=set(str2.split(\",\"))\n",
        "  result=set1|set2\n",
        "  print(result)\n",
        "union_characters()"
      ]
    },
    {
      "cell_type": "code",
      "execution_count": null,
      "metadata": {
        "colab": {
          "base_uri": "https://localhost:8080/"
        },
        "id": "F7I9MzJ5WeKR",
        "outputId": "f0b6ffdd-1beb-4257-91b3-0610232a9ba6"
      },
      "outputs": [
        {
          "name": "stdout",
          "output_type": "stream",
          "text": [
            "Maximum Value: 17\n",
            "Minimum Value: 1\n"
          ]
        }
      ],
      "source": [
        "#Q27. Develop a code that takes a tuple of integers as input. The function should return the maximum and minimum values from the tuple using tuple unpacking\n",
        "def min_max_tuple(tup):\n",
        "  return (max(tup),min(tup))\n",
        "maximum,minimum=min_max_tuple((1,2,4,6,7,3,13,17)) #unpacking the tuple\n",
        "print(\"Maximum Value:\",maximum)\n",
        "print(\"Minimum Value:\",minimum)"
      ]
    },
    {
      "cell_type": "code",
      "execution_count": null,
      "metadata": {
        "colab": {
          "base_uri": "https://localhost:8080/"
        },
        "id": "zQzln4a9YuSn",
        "outputId": "c2422335-41ed-4fc1-a0af-d945e8793f47"
      },
      "outputs": [
        {
          "name": "stdout",
          "output_type": "stream",
          "text": [
            "Union: {1, 2, 3, 4, 5, 6, 7, 10, 12, 17, 24, 26}\n",
            "Intersection: {2, 3}\n",
            "Difference(set1-set2): {1, 4, 6, 7, 10, 12}\n",
            "Difference(set2-set1): {24, 17, 26, 5}\n"
          ]
        }
      ],
      "source": [
        "#Q28. Create a code that take two set of integers .Then print the union,intersection and difference of these two sets\n",
        "def set_operation(set1,set2):\n",
        "  print(\"Union:\", set1|set2)\n",
        "  print(\"Intersection:\",set1&set2)\n",
        "  print(\"Difference(set1-set2):\",set1-set2)\n",
        "  print(\"Difference(set2-set1):\",set2-set1)\n",
        "set_operation({1,2,4,6,7,3,12,10},{2,3,5,26,24,17})"
      ]
    },
    {
      "cell_type": "code",
      "execution_count": null,
      "metadata": {
        "colab": {
          "base_uri": "https://localhost:8080/"
        },
        "id": "UBkfnS70aWhU",
        "outputId": "4a253311-7c2e-44c4-f721-2dd4cd02d986"
      },
      "outputs": [
        {
          "data": {
            "text/plain": [
              "4"
            ]
          },
          "execution_count": 25,
          "metadata": {},
          "output_type": "execute_result"
        }
      ],
      "source": [
        "#Q29.Write a code that take tuple and an element as input.The function should return the count of occurrence of the gicen element in the tuple\n",
        "def count_occurrence_element(tup1,element):\n",
        "  count=0\n",
        "  for i in tup1:\n",
        "    if i==element:\n",
        "      count+=1\n",
        "  return count\n",
        "count_occurrence_element((1,2,3,5,3,1,5,5,5),5)"
      ]
    },
    {
      "cell_type": "code",
      "execution_count": null,
      "metadata": {
        "colab": {
          "base_uri": "https://localhost:8080/"
        },
        "id": "ByqENXjQbj7V",
        "outputId": "7daf710c-d1a9-4673-9787-ce46f2ff0b98"
      },
      "outputs": [
        {
          "name": "stdout",
          "output_type": "stream",
          "text": [
            "Enter string1: Apple,Mango,Banana\n",
            "Enter string2: Litchi,Mango,Kiwi\n",
            "{'Banana', 'Apple', 'Litchi', 'Kiwi'}\n"
          ]
        }
      ],
      "source": [
        "#Q30.Develop a code that prompts the user to input two sets of strings.Then print the symmentric difference of these two sets\n",
        "def symmetric_difference():\n",
        "  str1=input(\"Enter string1: \")\n",
        "  str2=input(\"Enter string2: \")\n",
        "  set1=set(str1.split(\",\"))\n",
        "  set2=set(str2.split(\",\"))\n",
        "  print(set1^set2)\n",
        "\n",
        "symmetric_difference()\n"
      ]
    },
    {
      "cell_type": "code",
      "execution_count": null,
      "metadata": {
        "colab": {
          "base_uri": "https://localhost:8080/"
        },
        "id": "ICGnm_1udOul",
        "outputId": "f303c453-4905-48c1-ff10-1892d2f58e4c"
      },
      "outputs": [
        {
          "data": {
            "text/plain": [
              "{'Apple': 2, 'Banana': 1, 'Mango': 3}"
            ]
          },
          "execution_count": 29,
          "metadata": {},
          "output_type": "execute_result"
        }
      ],
      "source": [
        "#Q31. Write a code that takes list of words as input and return a dictionary where the keys are the unique words and the values are the frequencies of those words in the list\n",
        "def count_word_frequencies(list1):\n",
        "  dict={}\n",
        "  for i in list1:\n",
        "    if i in dict:\n",
        "      dict[i]+=1\n",
        "    else:\n",
        "      dict[i]=1\n",
        "  return dict\n",
        "count_word_frequencies([\"Apple\",\"Banana\",\"Mango\",\"Apple\",\"Mango\",\"Mango\"])"
      ]
    },
    {
      "cell_type": "code",
      "execution_count": null,
      "metadata": {
        "colab": {
          "base_uri": "https://localhost:8080/"
        },
        "id": "sM8KYlYHe-F7",
        "outputId": "45dde9b3-b8be-4488-fdcb-4c011c0a8d7c"
      },
      "outputs": [
        {
          "data": {
            "text/plain": [
              "{'Apple': 6, 'Banana': 5, 'Mango': 22, 'Litchi': 2}"
            ]
          },
          "execution_count": 30,
          "metadata": {},
          "output_type": "execute_result"
        }
      ],
      "source": [
        "#Q32. Write a code that takes two dictionaries as input and merges them into a single dictionary .If there are common keys,the value should be added together\n",
        "def merge_dictionaries(dict1,dict2):\n",
        "    merged_dict = dict(dict1)\n",
        "    for key, value in dict2.items():\n",
        "        if key in merged_dict:\n",
        "            merged_dict[key] += value\n",
        "        else:\n",
        "            merged_dict[key] = value\n",
        "    return merged_dict\n",
        "\n",
        "merge_dictionaries({'Apple':6,'Banana':5,'Mango':10}, {'Mango':12,'Litchi':2})\n",
        "\n"
      ]
    },
    {
      "cell_type": "code",
      "execution_count": null,
      "metadata": {
        "colab": {
          "base_uri": "https://localhost:8080/"
        },
        "id": "H4t4GdxUjGBh",
        "outputId": "10b4a48f-aaa0-4d36-900c-9c2612164767"
      },
      "outputs": [
        {
          "data": {
            "text/plain": [
              "17"
            ]
          },
          "execution_count": 39,
          "metadata": {},
          "output_type": "execute_result"
        }
      ],
      "source": [
        "#Q33. Write a code to access value in nested dictionary.The function should take the dictionary and a list of keys as input,and return the correspoind values.If any of the key do not exist in the dictionary,the function shoukd retur  none\n",
        "def access_value_dictionary(dict1,list1):\n",
        "  for i in list1:\n",
        "    if i in dict1:\n",
        "      dict1=dict1[i]\n",
        "    else:\n",
        "      return None\n",
        "  return dict1\n",
        "access_value_dictionary({'a': {'b': {'c': 17}}},['a','b','c'])\n",
        "\n",
        "\n"
      ]
    },
    {
      "cell_type": "code",
      "execution_count": null,
      "metadata": {
        "colab": {
          "base_uri": "https://localhost:8080/"
        },
        "id": "7TahA5cEncgD",
        "outputId": "6318d2a7-01a1-4678-e6d4-11ce8ad04b87"
      },
      "outputs": [
        {
          "name": "stdout",
          "output_type": "stream",
          "text": [
            "{'c': 0, 'a': 3, 'b': 10}\n",
            "{'b': 10, 'a': 3, 'c': 0}\n"
          ]
        }
      ],
      "source": [
        "#Q34.Write a code that takes a dictionary as input and returns a sorted version of it based on the values.you can choose wheter to sort in ascending or descending order\n",
        "def sort_dictionary(dict1, ascending=True):\n",
        "    result = sorted(dict1.items(), key=lambda x: x[1], reverse=not ascending)\n",
        "    sorted_dict = dict(result)\n",
        "    return sorted_dict\n",
        "print(sort_dictionary({'a': 3, 'b': 10, 'c': 0}))  # Default is ascending order\n",
        "print(sort_dictionary({'a': 3, 'b': 10, 'c': 0}, ascending=False))  # Descending order"
      ]
    },
    {
      "cell_type": "code",
      "execution_count": null,
      "metadata": {
        "colab": {
          "base_uri": "https://localhost:8080/"
        },
        "id": "6Skz1toupMJb",
        "outputId": "6cd9ea79-881f-42cf-9366-1a177f6d8ddf"
      },
      "outputs": [
        {
          "data": {
            "text/plain": [
              "{1: ['a', 'c'], 2: ['b'], 3: ['d']}"
            ]
          },
          "execution_count": 44,
          "metadata": {},
          "output_type": "execute_result"
        }
      ],
      "source": [
        "#Q35. Write a code that inverts a dictionary,swapping keys and values.Ensure that the inverted dictionary correctly handles cases where multiple keys have the same value by storing the keys as a list in the inverted dictionary\n",
        "def invert_dictionary(dict1):\n",
        "    d1 = {}\n",
        "    for key, value in dict1.items():\n",
        "        if value in d1:\n",
        "            d1[value].append(key)\n",
        "        else:\n",
        "            d1[value] = [key]\n",
        "    return d1\n",
        "invert_dictionary({'a': 1, 'b': 2, 'c': 1, 'd': 3})\n",
        "\n"
      ]
    }
  ],
  "metadata": {
    "colab": {
      "provenance": []
    },
    "kernelspec": {
      "display_name": "Python 3",
      "name": "python3"
    },
    "language_info": {
      "codemirror_mode": {
        "name": "ipython",
        "version": 3
      },
      "file_extension": ".py",
      "mimetype": "text/x-python",
      "name": "python",
      "nbconvert_exporter": "python",
      "pygments_lexer": "ipython3",
      "version": "3.12.1"
    }
  },
  "nbformat": 4,
  "nbformat_minor": 0
}
